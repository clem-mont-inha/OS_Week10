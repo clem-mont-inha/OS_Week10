{
  "nbformat": 4,
  "nbformat_minor": 0,
  "metadata": {
    "colab": {
      "provenance": [],
      "authorship_tag": "ABX9TyOfoazQi4m9O2UHMduSAkQd",
      "include_colab_link": true
    },
    "kernelspec": {
      "name": "python3",
      "display_name": "Python 3"
    },
    "language_info": {
      "name": "python"
    }
  },
  "cells": [
    {
      "cell_type": "markdown",
      "metadata": {
        "id": "view-in-github",
        "colab_type": "text"
      },
      "source": [
        "<a href=\"https://colab.research.google.com/github/clem-mont-inha/OS_Week10/blob/main/OS_Week10.ipynb\" target=\"_parent\"><img src=\"https://colab.research.google.com/assets/colab-badge.svg\" alt=\"Open In Colab\"/></a>"
      ]
    },
    {
      "cell_type": "code",
      "execution_count": 10,
      "metadata": {
        "colab": {
          "base_uri": "https://localhost:8080/"
        },
        "id": "VwFf6qFpRMNV",
        "outputId": "6d73638f-1760-4269-d86f-d2fd6ba40f0d"
      },
      "outputs": [
        {
          "output_type": "stream",
          "name": "stdout",
          "text": [
            "Overwriting lab_session.sh\n"
          ]
        }
      ],
      "source": [
        "%%writefile lab_session.sh\n",
        "\n",
        "#!/bin/bash\n",
        "\n",
        "echo \"Part 1: Analysing and storing logs\"\n",
        "echo \"Step 1: View System Logs\"\n",
        "cat /var/log/syslog\n",
        "\n",
        "echo \"Step 2: Filter Logs for SSH\"\n",
        "cat /var/log/syslog | grep ssh\n",
        "\n",
        "echo \"Step 3: Storing Filtered Logs\"\n",
        "cat /var/log/syslog | grep ssh > logs.txt\n",
        "echo \"Filtered logs stored in logs.txt\"\n",
        "\n",
        "echo \"Part 2: Archiving and Copying files\"\n",
        "echo \"Step 4: Creating sample files\"\n",
        "touch file1 file2 file3\n",
        "echo \"Sample files created\"\n",
        "\n",
        "echo \"Step 5: Archiving sample files\"\n",
        "tar -czvf archive.tar.gz file1 file2 file3\n",
        "echo \"Archive created in archive.tar.gz\"\n",
        "\n",
        "echo \"Step 6: Copying the archive to home dir\"\n",
        "cp archive.tar.gz ~/\n",
        "echo \"Archive copied to home directory\"\n",
        "\n",
        "echo \"Step 7: Extracting files from the archive\"\n",
        "tar -xzvf ~/archive.tar.gz\n",
        "echo \"Files extracted from archive.tar.gz\"\n",
        "\n",
        "echo \"Script finished\"\n",
        "\n"
      ]
    },
    {
      "cell_type": "code",
      "source": [
        "!./lab_session.sh"
      ],
      "metadata": {
        "colab": {
          "base_uri": "https://localhost:8080/"
        },
        "id": "5I-uGr1qRsEa",
        "outputId": "3421ccf0-1d6b-41e5-d82f-b60238fb906d"
      },
      "execution_count": 11,
      "outputs": [
        {
          "output_type": "stream",
          "name": "stdout",
          "text": [
            "Part 1: Analysing and storing logs\n",
            "Step 1: View System Logs\n",
            "cat: /var/log/syslog: No such file or directory\n",
            "Step 2: Filter Logs for SSH\n",
            "cat: /var/log/syslog: No such file or directory\n",
            "Step 3: Storing Filtered Logs\n",
            "cat: /var/log/syslog: No such file or directory\n",
            "Filtered logs stored in logs.txt\n",
            "Part 2: Archiving and Copying files\n",
            "Step 4: Creating sample files\n",
            "Sample files created\n",
            "Step 5: Archiving sample files\n",
            "file1\n",
            "file2\n",
            "file3\n",
            "Archive created in archive.tar.gz\n",
            "Step 6: Copying the archive to home dir\n",
            "Archive copied to home directory\n",
            "Step 7: Extracting files from the archive\n",
            "file1\n",
            "file2\n",
            "file3\n",
            "Files extracted from archive.tar.gz\n",
            "Script finished\n"
          ]
        }
      ]
    },
    {
      "cell_type": "code",
      "source": [
        "!chmod +x lab_session.sh"
      ],
      "metadata": {
        "id": "ayXyYGQ2RvIc"
      },
      "execution_count": 6,
      "outputs": []
    },
    {
      "cell_type": "code",
      "source": [
        "!cat lab_session.sh"
      ],
      "metadata": {
        "colab": {
          "base_uri": "https://localhost:8080/"
        },
        "id": "wN4bk3e2Rc8-",
        "outputId": "7d6fda85-5eb2-42c3-e7b7-0b2833b61d85"
      },
      "execution_count": 12,
      "outputs": [
        {
          "output_type": "stream",
          "name": "stdout",
          "text": [
            "\n",
            "#!/bin/bash\n",
            "\n",
            "echo \"Part 1: Analysing and storing logs\"\n",
            "echo \"Step 1: View System Logs\"\n",
            "cat /var/log/syslog\n",
            "\n",
            "echo \"Step 2: Filter Logs for SSH\"\n",
            "cat /var/log/syslog | grep ssh\n",
            "\n",
            "echo \"Step 3: Storing Filtered Logs\"\n",
            "cat /var/log/syslog | grep ssh > logs.txt\n",
            "echo \"Filtered logs stored in logs.txt\"\n",
            "\n",
            "echo \"Part 2: Archiving and Copying files\"\n",
            "echo \"Step 4: Creating sample files\"\n",
            "touch file1 file2 file3\n",
            "echo \"Sample files created\"\n",
            "\n",
            "echo \"Step 5: Archiving sample files\"\n",
            "tar -czvf archive.tar.gz file1 file2 file3\n",
            "echo \"Archive created in archive.tar.gz\"\n",
            "\n",
            "echo \"Step 6: Copying the archive to home dir\"\n",
            "cp archive.tar.gz ~/\n",
            "echo \"Archive copied to home directory\"\n",
            "\n",
            "echo \"Step 7: Extracting files from the archive\"\n",
            "tar -xzvf ~/archive.tar.gz\n",
            "echo \"Files extracted from archive.tar.gz\"\n",
            "\n",
            "echo \"Script finished\"\n",
            "\n"
          ]
        }
      ]
    }
  ]
}